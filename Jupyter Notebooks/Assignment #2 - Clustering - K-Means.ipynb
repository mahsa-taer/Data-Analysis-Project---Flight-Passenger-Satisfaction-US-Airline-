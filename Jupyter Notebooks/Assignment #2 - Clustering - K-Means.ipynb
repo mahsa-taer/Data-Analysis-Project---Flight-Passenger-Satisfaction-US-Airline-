{
 "cells": [
  {
   "cell_type": "markdown",
   "metadata": {},
   "source": [
    "<div class=\"alert alert-block alert-info\"><b><h1>Clustering: K-Means</h1></b></div>"
   ]
  },
  {
   "cell_type": "markdown",
   "metadata": {},
   "source": [
    "<div class=\"alert alert-block alert-info\"><em>Finding Number of Clusters"
   ]
  },
  {
   "cell_type": "markdown",
   "metadata": {},
   "source": [
    "<div class=\"alert alert-block alert-info\"><em>Importing the libraries"
   ]
  },
  {
   "cell_type": "code",
   "execution_count": 149,
   "metadata": {},
   "outputs": [],
   "source": [
    "import pandas as pd\n",
    "import matplotlib.pyplot as plt\n",
    "from sklearn.cluster import KMeans"
   ]
  },
  {
   "cell_type": "markdown",
   "metadata": {},
   "source": [
    "<div class=\"alert alert-block alert-info\"><em>Importing the datasets"
   ]
  },
  {
   "cell_type": "markdown",
   "metadata": {},
   "source": [
    "<div class=\"alert alert-block alert-warning\"><em>Test Dataset"
   ]
  },
  {
   "cell_type": "code",
   "execution_count": 69,
   "metadata": {},
   "outputs": [
    {
     "data": {
      "text/html": [
       "<div>\n",
       "<style scoped>\n",
       "    .dataframe tbody tr th:only-of-type {\n",
       "        vertical-align: middle;\n",
       "    }\n",
       "\n",
       "    .dataframe tbody tr th {\n",
       "        vertical-align: top;\n",
       "    }\n",
       "\n",
       "    .dataframe thead th {\n",
       "        text-align: right;\n",
       "    }\n",
       "</style>\n",
       "<table border=\"1\" class=\"dataframe\">\n",
       "  <thead>\n",
       "    <tr style=\"text-align: right;\">\n",
       "      <th></th>\n",
       "      <th>id</th>\n",
       "      <th>Gender</th>\n",
       "      <th>CustomerType</th>\n",
       "      <th>Age</th>\n",
       "      <th>TypeOfTravel</th>\n",
       "      <th>Class</th>\n",
       "      <th>FlightDistance</th>\n",
       "      <th>InflightWifiservice</th>\n",
       "      <th>DepartureArrivalTimeCconvenient</th>\n",
       "      <th>EaseOfOnlineBooking</th>\n",
       "      <th>...</th>\n",
       "      <th>InflightEntertainment</th>\n",
       "      <th>OnBoardService</th>\n",
       "      <th>LegRoomService</th>\n",
       "      <th>BaggageHandling</th>\n",
       "      <th>CheckinService</th>\n",
       "      <th>InflightService</th>\n",
       "      <th>Cleanliness</th>\n",
       "      <th>DepartureDelayInMinutes</th>\n",
       "      <th>ArrivalDelayInMinutes</th>\n",
       "      <th>satisfaction</th>\n",
       "    </tr>\n",
       "  </thead>\n",
       "  <tbody>\n",
       "    <tr>\n",
       "      <th>0</th>\n",
       "      <td>19556</td>\n",
       "      <td>Female</td>\n",
       "      <td>Loyal Customer</td>\n",
       "      <td>52</td>\n",
       "      <td>Business travel</td>\n",
       "      <td>Eco</td>\n",
       "      <td>160</td>\n",
       "      <td>5</td>\n",
       "      <td>4</td>\n",
       "      <td>3</td>\n",
       "      <td>...</td>\n",
       "      <td>5</td>\n",
       "      <td>5</td>\n",
       "      <td>5</td>\n",
       "      <td>5</td>\n",
       "      <td>2</td>\n",
       "      <td>5</td>\n",
       "      <td>5</td>\n",
       "      <td>50</td>\n",
       "      <td>44.0</td>\n",
       "      <td>satisfied</td>\n",
       "    </tr>\n",
       "    <tr>\n",
       "      <th>1</th>\n",
       "      <td>90035</td>\n",
       "      <td>Female</td>\n",
       "      <td>Loyal Customer</td>\n",
       "      <td>36</td>\n",
       "      <td>Business travel</td>\n",
       "      <td>Business</td>\n",
       "      <td>2863</td>\n",
       "      <td>1</td>\n",
       "      <td>1</td>\n",
       "      <td>3</td>\n",
       "      <td>...</td>\n",
       "      <td>4</td>\n",
       "      <td>4</td>\n",
       "      <td>4</td>\n",
       "      <td>4</td>\n",
       "      <td>3</td>\n",
       "      <td>4</td>\n",
       "      <td>5</td>\n",
       "      <td>0</td>\n",
       "      <td>0.0</td>\n",
       "      <td>satisfied</td>\n",
       "    </tr>\n",
       "    <tr>\n",
       "      <th>2</th>\n",
       "      <td>12360</td>\n",
       "      <td>Male</td>\n",
       "      <td>disloyal Customer</td>\n",
       "      <td>20</td>\n",
       "      <td>Business travel</td>\n",
       "      <td>Eco</td>\n",
       "      <td>192</td>\n",
       "      <td>2</td>\n",
       "      <td>0</td>\n",
       "      <td>2</td>\n",
       "      <td>...</td>\n",
       "      <td>2</td>\n",
       "      <td>4</td>\n",
       "      <td>1</td>\n",
       "      <td>3</td>\n",
       "      <td>2</td>\n",
       "      <td>2</td>\n",
       "      <td>2</td>\n",
       "      <td>0</td>\n",
       "      <td>0.0</td>\n",
       "      <td>neutral or dissatisfied</td>\n",
       "    </tr>\n",
       "    <tr>\n",
       "      <th>3</th>\n",
       "      <td>36875</td>\n",
       "      <td>Female</td>\n",
       "      <td>Loyal Customer</td>\n",
       "      <td>49</td>\n",
       "      <td>Business travel</td>\n",
       "      <td>Eco</td>\n",
       "      <td>1182</td>\n",
       "      <td>2</td>\n",
       "      <td>3</td>\n",
       "      <td>4</td>\n",
       "      <td>...</td>\n",
       "      <td>2</td>\n",
       "      <td>2</td>\n",
       "      <td>2</td>\n",
       "      <td>2</td>\n",
       "      <td>4</td>\n",
       "      <td>2</td>\n",
       "      <td>4</td>\n",
       "      <td>0</td>\n",
       "      <td>20.0</td>\n",
       "      <td>satisfied</td>\n",
       "    </tr>\n",
       "    <tr>\n",
       "      <th>4</th>\n",
       "      <td>39177</td>\n",
       "      <td>Male</td>\n",
       "      <td>Loyal Customer</td>\n",
       "      <td>16</td>\n",
       "      <td>Business travel</td>\n",
       "      <td>Eco</td>\n",
       "      <td>311</td>\n",
       "      <td>3</td>\n",
       "      <td>3</td>\n",
       "      <td>3</td>\n",
       "      <td>...</td>\n",
       "      <td>5</td>\n",
       "      <td>4</td>\n",
       "      <td>3</td>\n",
       "      <td>1</td>\n",
       "      <td>1</td>\n",
       "      <td>2</td>\n",
       "      <td>5</td>\n",
       "      <td>0</td>\n",
       "      <td>0.0</td>\n",
       "      <td>satisfied</td>\n",
       "    </tr>\n",
       "  </tbody>\n",
       "</table>\n",
       "<p>5 rows × 24 columns</p>\n",
       "</div>"
      ],
      "text/plain": [
       "      id  Gender       CustomerType  Age     TypeOfTravel     Class  \\\n",
       "0  19556  Female     Loyal Customer   52  Business travel       Eco   \n",
       "1  90035  Female     Loyal Customer   36  Business travel  Business   \n",
       "2  12360    Male  disloyal Customer   20  Business travel       Eco   \n",
       "3  36875  Female     Loyal Customer   49  Business travel       Eco   \n",
       "4  39177    Male     Loyal Customer   16  Business travel       Eco   \n",
       "\n",
       "   FlightDistance  InflightWifiservice  DepartureArrivalTimeCconvenient  \\\n",
       "0             160                    5                                4   \n",
       "1            2863                    1                                1   \n",
       "2             192                    2                                0   \n",
       "3            1182                    2                                3   \n",
       "4             311                    3                                3   \n",
       "\n",
       "   EaseOfOnlineBooking  ...  InflightEntertainment  OnBoardService  \\\n",
       "0                    3  ...                      5               5   \n",
       "1                    3  ...                      4               4   \n",
       "2                    2  ...                      2               4   \n",
       "3                    4  ...                      2               2   \n",
       "4                    3  ...                      5               4   \n",
       "\n",
       "   LegRoomService  BaggageHandling  CheckinService  InflightService  \\\n",
       "0               5                5               2                5   \n",
       "1               4                4               3                4   \n",
       "2               1                3               2                2   \n",
       "3               2                2               4                2   \n",
       "4               3                1               1                2   \n",
       "\n",
       "   Cleanliness  DepartureDelayInMinutes  ArrivalDelayInMinutes  \\\n",
       "0            5                       50                   44.0   \n",
       "1            5                        0                    0.0   \n",
       "2            2                        0                    0.0   \n",
       "3            4                        0                   20.0   \n",
       "4            5                        0                    0.0   \n",
       "\n",
       "              satisfaction  \n",
       "0                satisfied  \n",
       "1                satisfied  \n",
       "2  neutral or dissatisfied  \n",
       "3                satisfied  \n",
       "4                satisfied  \n",
       "\n",
       "[5 rows x 24 columns]"
      ]
     },
     "execution_count": 69,
     "metadata": {},
     "output_type": "execute_result"
    }
   ],
   "source": [
    "df_test = pd.read_csv(\"Airline_Passenger_Satisfaction_Test_Cleaned.csv\")\n",
    "df_test.head()"
   ]
  },
  {
   "cell_type": "markdown",
   "metadata": {},
   "source": [
    "<div class=\"alert alert-block alert-warning\"><em>Train Dataset"
   ]
  },
  {
   "cell_type": "code",
   "execution_count": 70,
   "metadata": {},
   "outputs": [
    {
     "data": {
      "text/html": [
       "<div>\n",
       "<style scoped>\n",
       "    .dataframe tbody tr th:only-of-type {\n",
       "        vertical-align: middle;\n",
       "    }\n",
       "\n",
       "    .dataframe tbody tr th {\n",
       "        vertical-align: top;\n",
       "    }\n",
       "\n",
       "    .dataframe thead th {\n",
       "        text-align: right;\n",
       "    }\n",
       "</style>\n",
       "<table border=\"1\" class=\"dataframe\">\n",
       "  <thead>\n",
       "    <tr style=\"text-align: right;\">\n",
       "      <th></th>\n",
       "      <th>id</th>\n",
       "      <th>Gender</th>\n",
       "      <th>CustomerType</th>\n",
       "      <th>Age</th>\n",
       "      <th>TypeOfTravel</th>\n",
       "      <th>Class</th>\n",
       "      <th>FlightDistance</th>\n",
       "      <th>InflightWifiservice</th>\n",
       "      <th>DepartureArrivalTimeCconvenient</th>\n",
       "      <th>EaseOfOnlineBooking</th>\n",
       "      <th>...</th>\n",
       "      <th>InflightEntertainment</th>\n",
       "      <th>OnBoardService</th>\n",
       "      <th>LegRoomService</th>\n",
       "      <th>BaggageHandling</th>\n",
       "      <th>CheckinService</th>\n",
       "      <th>InflightService</th>\n",
       "      <th>Cleanliness</th>\n",
       "      <th>DepartureDelayInMinutes</th>\n",
       "      <th>ArrivalDelayInMinutes</th>\n",
       "      <th>satisfaction</th>\n",
       "    </tr>\n",
       "  </thead>\n",
       "  <tbody>\n",
       "    <tr>\n",
       "      <th>0</th>\n",
       "      <td>70172</td>\n",
       "      <td>Male</td>\n",
       "      <td>Loyal Customer</td>\n",
       "      <td>13</td>\n",
       "      <td>Personal Travel</td>\n",
       "      <td>Eco Plus</td>\n",
       "      <td>460</td>\n",
       "      <td>3</td>\n",
       "      <td>4</td>\n",
       "      <td>3</td>\n",
       "      <td>...</td>\n",
       "      <td>5</td>\n",
       "      <td>4</td>\n",
       "      <td>3</td>\n",
       "      <td>4</td>\n",
       "      <td>4</td>\n",
       "      <td>5</td>\n",
       "      <td>5</td>\n",
       "      <td>25</td>\n",
       "      <td>18.0</td>\n",
       "      <td>neutral or dissatisfied</td>\n",
       "    </tr>\n",
       "    <tr>\n",
       "      <th>1</th>\n",
       "      <td>5047</td>\n",
       "      <td>Male</td>\n",
       "      <td>disloyal Customer</td>\n",
       "      <td>25</td>\n",
       "      <td>Business travel</td>\n",
       "      <td>Business</td>\n",
       "      <td>235</td>\n",
       "      <td>3</td>\n",
       "      <td>2</td>\n",
       "      <td>3</td>\n",
       "      <td>...</td>\n",
       "      <td>1</td>\n",
       "      <td>1</td>\n",
       "      <td>5</td>\n",
       "      <td>3</td>\n",
       "      <td>1</td>\n",
       "      <td>4</td>\n",
       "      <td>1</td>\n",
       "      <td>1</td>\n",
       "      <td>6.0</td>\n",
       "      <td>neutral or dissatisfied</td>\n",
       "    </tr>\n",
       "    <tr>\n",
       "      <th>2</th>\n",
       "      <td>110028</td>\n",
       "      <td>Female</td>\n",
       "      <td>Loyal Customer</td>\n",
       "      <td>26</td>\n",
       "      <td>Business travel</td>\n",
       "      <td>Business</td>\n",
       "      <td>1142</td>\n",
       "      <td>2</td>\n",
       "      <td>2</td>\n",
       "      <td>2</td>\n",
       "      <td>...</td>\n",
       "      <td>5</td>\n",
       "      <td>4</td>\n",
       "      <td>3</td>\n",
       "      <td>4</td>\n",
       "      <td>4</td>\n",
       "      <td>4</td>\n",
       "      <td>5</td>\n",
       "      <td>0</td>\n",
       "      <td>0.0</td>\n",
       "      <td>satisfied</td>\n",
       "    </tr>\n",
       "    <tr>\n",
       "      <th>3</th>\n",
       "      <td>24026</td>\n",
       "      <td>Female</td>\n",
       "      <td>Loyal Customer</td>\n",
       "      <td>25</td>\n",
       "      <td>Business travel</td>\n",
       "      <td>Business</td>\n",
       "      <td>562</td>\n",
       "      <td>2</td>\n",
       "      <td>5</td>\n",
       "      <td>5</td>\n",
       "      <td>...</td>\n",
       "      <td>2</td>\n",
       "      <td>2</td>\n",
       "      <td>5</td>\n",
       "      <td>3</td>\n",
       "      <td>1</td>\n",
       "      <td>4</td>\n",
       "      <td>2</td>\n",
       "      <td>11</td>\n",
       "      <td>9.0</td>\n",
       "      <td>neutral or dissatisfied</td>\n",
       "    </tr>\n",
       "    <tr>\n",
       "      <th>4</th>\n",
       "      <td>119299</td>\n",
       "      <td>Male</td>\n",
       "      <td>Loyal Customer</td>\n",
       "      <td>61</td>\n",
       "      <td>Business travel</td>\n",
       "      <td>Business</td>\n",
       "      <td>214</td>\n",
       "      <td>3</td>\n",
       "      <td>3</td>\n",
       "      <td>3</td>\n",
       "      <td>...</td>\n",
       "      <td>3</td>\n",
       "      <td>3</td>\n",
       "      <td>4</td>\n",
       "      <td>4</td>\n",
       "      <td>3</td>\n",
       "      <td>3</td>\n",
       "      <td>3</td>\n",
       "      <td>0</td>\n",
       "      <td>0.0</td>\n",
       "      <td>satisfied</td>\n",
       "    </tr>\n",
       "  </tbody>\n",
       "</table>\n",
       "<p>5 rows × 24 columns</p>\n",
       "</div>"
      ],
      "text/plain": [
       "       id  Gender       CustomerType  Age     TypeOfTravel     Class  \\\n",
       "0   70172    Male     Loyal Customer   13  Personal Travel  Eco Plus   \n",
       "1    5047    Male  disloyal Customer   25  Business travel  Business   \n",
       "2  110028  Female     Loyal Customer   26  Business travel  Business   \n",
       "3   24026  Female     Loyal Customer   25  Business travel  Business   \n",
       "4  119299    Male     Loyal Customer   61  Business travel  Business   \n",
       "\n",
       "   FlightDistance  InflightWifiservice  DepartureArrivalTimeCconvenient  \\\n",
       "0             460                    3                                4   \n",
       "1             235                    3                                2   \n",
       "2            1142                    2                                2   \n",
       "3             562                    2                                5   \n",
       "4             214                    3                                3   \n",
       "\n",
       "   EaseOfOnlineBooking  ...  InflightEntertainment  OnBoardService  \\\n",
       "0                    3  ...                      5               4   \n",
       "1                    3  ...                      1               1   \n",
       "2                    2  ...                      5               4   \n",
       "3                    5  ...                      2               2   \n",
       "4                    3  ...                      3               3   \n",
       "\n",
       "   LegRoomService  BaggageHandling  CheckinService  InflightService  \\\n",
       "0               3                4               4                5   \n",
       "1               5                3               1                4   \n",
       "2               3                4               4                4   \n",
       "3               5                3               1                4   \n",
       "4               4                4               3                3   \n",
       "\n",
       "   Cleanliness  DepartureDelayInMinutes  ArrivalDelayInMinutes  \\\n",
       "0            5                       25                   18.0   \n",
       "1            1                        1                    6.0   \n",
       "2            5                        0                    0.0   \n",
       "3            2                       11                    9.0   \n",
       "4            3                        0                    0.0   \n",
       "\n",
       "              satisfaction  \n",
       "0  neutral or dissatisfied  \n",
       "1  neutral or dissatisfied  \n",
       "2                satisfied  \n",
       "3  neutral or dissatisfied  \n",
       "4                satisfied  \n",
       "\n",
       "[5 rows x 24 columns]"
      ]
     },
     "execution_count": 70,
     "metadata": {},
     "output_type": "execute_result"
    }
   ],
   "source": [
    "df_train = pd.read_csv(\"Airline_Passenger_Satisfaction_Train_Cleaned.csv\")\n",
    "df_train.head()"
   ]
  },
  {
   "cell_type": "markdown",
   "metadata": {},
   "source": [
    "<div class=\"alert alert-block alert-info\"><b><h3>Data Preparation for the Clustering Using a Test and Train Set</h3></b></div>"
   ]
  },
  {
   "cell_type": "code",
   "execution_count": 182,
   "metadata": {},
   "outputs": [],
   "source": [
    "df_train = pd.read_csv(\"Airline_Passenger_Satisfaction_Train_Cleaned.csv\")\n",
    "df_test = pd.read_csv(\"Airline_Passenger_Satisfaction_Test_Cleaned.csv\")\n",
    "\n",
    "def conv_cat(data):\n",
    "    data['Gender'] = data['Gender'].map({'Male': 0, 'Female': 1})\n",
    "    data['CustomerType'] = data['CustomerType'].map({'Loyal Customer': 1, 'disloyal Customer': 0})\n",
    "    data['TypeOfTravel'] = data['TypeOfTravel'].map({'Personal Travel':0, 'Business travel':1})\n",
    "    data['Class'] = data['Class'].map({'Business':2, 'Eco Plus':1, 'Eco':0})\n",
    "    data['satisfaction'] = data['satisfaction'].map({'neutral or dissatisfied':0, 'satisfied':1})\n",
    "    data = pd.get_dummies(data)\n",
    "    data.drop('id',axis=1,inplace=True)\n",
    "    data.fillna(0,inplace=True)\n",
    "    return data\n",
    "df_train = conv_cat(df_train)\n",
    "df_test = conv_cat(df_test)"
   ]
  },
  {
   "cell_type": "markdown",
   "metadata": {},
   "source": [
    "<div class=\"alert alert-block alert-warning\"><em>Test Dataset"
   ]
  },
  {
   "cell_type": "code",
   "execution_count": 18,
   "metadata": {},
   "outputs": [
    {
     "data": {
      "text/html": [
       "<div>\n",
       "<style scoped>\n",
       "    .dataframe tbody tr th:only-of-type {\n",
       "        vertical-align: middle;\n",
       "    }\n",
       "\n",
       "    .dataframe tbody tr th {\n",
       "        vertical-align: top;\n",
       "    }\n",
       "\n",
       "    .dataframe thead th {\n",
       "        text-align: right;\n",
       "    }\n",
       "</style>\n",
       "<table border=\"1\" class=\"dataframe\">\n",
       "  <thead>\n",
       "    <tr style=\"text-align: right;\">\n",
       "      <th></th>\n",
       "      <th>Gender</th>\n",
       "      <th>CustomerType</th>\n",
       "      <th>Age</th>\n",
       "      <th>TypeOfTravel</th>\n",
       "      <th>Class</th>\n",
       "      <th>FlightDistance</th>\n",
       "      <th>InflightWifiservice</th>\n",
       "      <th>DepartureArrivalTimeCconvenient</th>\n",
       "      <th>EaseOfOnlineBooking</th>\n",
       "      <th>GateLocation</th>\n",
       "      <th>...</th>\n",
       "      <th>InflightEntertainment</th>\n",
       "      <th>OnBoardService</th>\n",
       "      <th>LegRoomService</th>\n",
       "      <th>BaggageHandling</th>\n",
       "      <th>CheckinService</th>\n",
       "      <th>InflightService</th>\n",
       "      <th>Cleanliness</th>\n",
       "      <th>DepartureDelayInMinutes</th>\n",
       "      <th>ArrivalDelayInMinutes</th>\n",
       "      <th>satisfaction</th>\n",
       "    </tr>\n",
       "  </thead>\n",
       "  <tbody>\n",
       "    <tr>\n",
       "      <th>0</th>\n",
       "      <td>1</td>\n",
       "      <td>1</td>\n",
       "      <td>52</td>\n",
       "      <td>1</td>\n",
       "      <td>0</td>\n",
       "      <td>160</td>\n",
       "      <td>5</td>\n",
       "      <td>4</td>\n",
       "      <td>3</td>\n",
       "      <td>4</td>\n",
       "      <td>...</td>\n",
       "      <td>5</td>\n",
       "      <td>5</td>\n",
       "      <td>5</td>\n",
       "      <td>5</td>\n",
       "      <td>2</td>\n",
       "      <td>5</td>\n",
       "      <td>5</td>\n",
       "      <td>50</td>\n",
       "      <td>44.0</td>\n",
       "      <td>1</td>\n",
       "    </tr>\n",
       "    <tr>\n",
       "      <th>1</th>\n",
       "      <td>1</td>\n",
       "      <td>1</td>\n",
       "      <td>36</td>\n",
       "      <td>1</td>\n",
       "      <td>2</td>\n",
       "      <td>2863</td>\n",
       "      <td>1</td>\n",
       "      <td>1</td>\n",
       "      <td>3</td>\n",
       "      <td>1</td>\n",
       "      <td>...</td>\n",
       "      <td>4</td>\n",
       "      <td>4</td>\n",
       "      <td>4</td>\n",
       "      <td>4</td>\n",
       "      <td>3</td>\n",
       "      <td>4</td>\n",
       "      <td>5</td>\n",
       "      <td>0</td>\n",
       "      <td>0.0</td>\n",
       "      <td>1</td>\n",
       "    </tr>\n",
       "    <tr>\n",
       "      <th>2</th>\n",
       "      <td>0</td>\n",
       "      <td>0</td>\n",
       "      <td>20</td>\n",
       "      <td>1</td>\n",
       "      <td>0</td>\n",
       "      <td>192</td>\n",
       "      <td>2</td>\n",
       "      <td>0</td>\n",
       "      <td>2</td>\n",
       "      <td>4</td>\n",
       "      <td>...</td>\n",
       "      <td>2</td>\n",
       "      <td>4</td>\n",
       "      <td>1</td>\n",
       "      <td>3</td>\n",
       "      <td>2</td>\n",
       "      <td>2</td>\n",
       "      <td>2</td>\n",
       "      <td>0</td>\n",
       "      <td>0.0</td>\n",
       "      <td>0</td>\n",
       "    </tr>\n",
       "    <tr>\n",
       "      <th>3</th>\n",
       "      <td>1</td>\n",
       "      <td>1</td>\n",
       "      <td>49</td>\n",
       "      <td>1</td>\n",
       "      <td>0</td>\n",
       "      <td>1182</td>\n",
       "      <td>2</td>\n",
       "      <td>3</td>\n",
       "      <td>4</td>\n",
       "      <td>3</td>\n",
       "      <td>...</td>\n",
       "      <td>2</td>\n",
       "      <td>2</td>\n",
       "      <td>2</td>\n",
       "      <td>2</td>\n",
       "      <td>4</td>\n",
       "      <td>2</td>\n",
       "      <td>4</td>\n",
       "      <td>0</td>\n",
       "      <td>20.0</td>\n",
       "      <td>1</td>\n",
       "    </tr>\n",
       "    <tr>\n",
       "      <th>4</th>\n",
       "      <td>0</td>\n",
       "      <td>1</td>\n",
       "      <td>16</td>\n",
       "      <td>1</td>\n",
       "      <td>0</td>\n",
       "      <td>311</td>\n",
       "      <td>3</td>\n",
       "      <td>3</td>\n",
       "      <td>3</td>\n",
       "      <td>3</td>\n",
       "      <td>...</td>\n",
       "      <td>5</td>\n",
       "      <td>4</td>\n",
       "      <td>3</td>\n",
       "      <td>1</td>\n",
       "      <td>1</td>\n",
       "      <td>2</td>\n",
       "      <td>5</td>\n",
       "      <td>0</td>\n",
       "      <td>0.0</td>\n",
       "      <td>1</td>\n",
       "    </tr>\n",
       "  </tbody>\n",
       "</table>\n",
       "<p>5 rows × 23 columns</p>\n",
       "</div>"
      ],
      "text/plain": [
       "   Gender  CustomerType  Age  TypeOfTravel  Class  FlightDistance  \\\n",
       "0       1             1   52             1      0             160   \n",
       "1       1             1   36             1      2            2863   \n",
       "2       0             0   20             1      0             192   \n",
       "3       1             1   49             1      0            1182   \n",
       "4       0             1   16             1      0             311   \n",
       "\n",
       "   InflightWifiservice  DepartureArrivalTimeCconvenient  EaseOfOnlineBooking  \\\n",
       "0                    5                                4                    3   \n",
       "1                    1                                1                    3   \n",
       "2                    2                                0                    2   \n",
       "3                    2                                3                    4   \n",
       "4                    3                                3                    3   \n",
       "\n",
       "   GateLocation  ...  InflightEntertainment  OnBoardService  LegRoomService  \\\n",
       "0             4  ...                      5               5               5   \n",
       "1             1  ...                      4               4               4   \n",
       "2             4  ...                      2               4               1   \n",
       "3             3  ...                      2               2               2   \n",
       "4             3  ...                      5               4               3   \n",
       "\n",
       "   BaggageHandling  CheckinService  InflightService  Cleanliness  \\\n",
       "0                5               2                5            5   \n",
       "1                4               3                4            5   \n",
       "2                3               2                2            2   \n",
       "3                2               4                2            4   \n",
       "4                1               1                2            5   \n",
       "\n",
       "   DepartureDelayInMinutes  ArrivalDelayInMinutes  satisfaction  \n",
       "0                       50                   44.0             1  \n",
       "1                        0                    0.0             1  \n",
       "2                        0                    0.0             0  \n",
       "3                        0                   20.0             1  \n",
       "4                        0                    0.0             1  \n",
       "\n",
       "[5 rows x 23 columns]"
      ]
     },
     "execution_count": 18,
     "metadata": {},
     "output_type": "execute_result"
    }
   ],
   "source": [
    "df_test.head()"
   ]
  },
  {
   "cell_type": "markdown",
   "metadata": {},
   "source": [
    "<div class=\"alert alert-block alert-warning\"><em>Train Dataset"
   ]
  },
  {
   "cell_type": "code",
   "execution_count": 19,
   "metadata": {},
   "outputs": [
    {
     "data": {
      "text/html": [
       "<div>\n",
       "<style scoped>\n",
       "    .dataframe tbody tr th:only-of-type {\n",
       "        vertical-align: middle;\n",
       "    }\n",
       "\n",
       "    .dataframe tbody tr th {\n",
       "        vertical-align: top;\n",
       "    }\n",
       "\n",
       "    .dataframe thead th {\n",
       "        text-align: right;\n",
       "    }\n",
       "</style>\n",
       "<table border=\"1\" class=\"dataframe\">\n",
       "  <thead>\n",
       "    <tr style=\"text-align: right;\">\n",
       "      <th></th>\n",
       "      <th>Gender</th>\n",
       "      <th>CustomerType</th>\n",
       "      <th>Age</th>\n",
       "      <th>TypeOfTravel</th>\n",
       "      <th>Class</th>\n",
       "      <th>FlightDistance</th>\n",
       "      <th>InflightWifiservice</th>\n",
       "      <th>DepartureArrivalTimeCconvenient</th>\n",
       "      <th>EaseOfOnlineBooking</th>\n",
       "      <th>GateLocation</th>\n",
       "      <th>...</th>\n",
       "      <th>InflightEntertainment</th>\n",
       "      <th>OnBoardService</th>\n",
       "      <th>LegRoomService</th>\n",
       "      <th>BaggageHandling</th>\n",
       "      <th>CheckinService</th>\n",
       "      <th>InflightService</th>\n",
       "      <th>Cleanliness</th>\n",
       "      <th>DepartureDelayInMinutes</th>\n",
       "      <th>ArrivalDelayInMinutes</th>\n",
       "      <th>satisfaction</th>\n",
       "    </tr>\n",
       "  </thead>\n",
       "  <tbody>\n",
       "    <tr>\n",
       "      <th>0</th>\n",
       "      <td>0</td>\n",
       "      <td>1</td>\n",
       "      <td>13</td>\n",
       "      <td>0</td>\n",
       "      <td>1</td>\n",
       "      <td>460</td>\n",
       "      <td>3</td>\n",
       "      <td>4</td>\n",
       "      <td>3</td>\n",
       "      <td>1</td>\n",
       "      <td>...</td>\n",
       "      <td>5</td>\n",
       "      <td>4</td>\n",
       "      <td>3</td>\n",
       "      <td>4</td>\n",
       "      <td>4</td>\n",
       "      <td>5</td>\n",
       "      <td>5</td>\n",
       "      <td>25</td>\n",
       "      <td>18.0</td>\n",
       "      <td>0</td>\n",
       "    </tr>\n",
       "    <tr>\n",
       "      <th>1</th>\n",
       "      <td>0</td>\n",
       "      <td>0</td>\n",
       "      <td>25</td>\n",
       "      <td>1</td>\n",
       "      <td>2</td>\n",
       "      <td>235</td>\n",
       "      <td>3</td>\n",
       "      <td>2</td>\n",
       "      <td>3</td>\n",
       "      <td>3</td>\n",
       "      <td>...</td>\n",
       "      <td>1</td>\n",
       "      <td>1</td>\n",
       "      <td>5</td>\n",
       "      <td>3</td>\n",
       "      <td>1</td>\n",
       "      <td>4</td>\n",
       "      <td>1</td>\n",
       "      <td>1</td>\n",
       "      <td>6.0</td>\n",
       "      <td>0</td>\n",
       "    </tr>\n",
       "    <tr>\n",
       "      <th>2</th>\n",
       "      <td>1</td>\n",
       "      <td>1</td>\n",
       "      <td>26</td>\n",
       "      <td>1</td>\n",
       "      <td>2</td>\n",
       "      <td>1142</td>\n",
       "      <td>2</td>\n",
       "      <td>2</td>\n",
       "      <td>2</td>\n",
       "      <td>2</td>\n",
       "      <td>...</td>\n",
       "      <td>5</td>\n",
       "      <td>4</td>\n",
       "      <td>3</td>\n",
       "      <td>4</td>\n",
       "      <td>4</td>\n",
       "      <td>4</td>\n",
       "      <td>5</td>\n",
       "      <td>0</td>\n",
       "      <td>0.0</td>\n",
       "      <td>1</td>\n",
       "    </tr>\n",
       "    <tr>\n",
       "      <th>3</th>\n",
       "      <td>1</td>\n",
       "      <td>1</td>\n",
       "      <td>25</td>\n",
       "      <td>1</td>\n",
       "      <td>2</td>\n",
       "      <td>562</td>\n",
       "      <td>2</td>\n",
       "      <td>5</td>\n",
       "      <td>5</td>\n",
       "      <td>5</td>\n",
       "      <td>...</td>\n",
       "      <td>2</td>\n",
       "      <td>2</td>\n",
       "      <td>5</td>\n",
       "      <td>3</td>\n",
       "      <td>1</td>\n",
       "      <td>4</td>\n",
       "      <td>2</td>\n",
       "      <td>11</td>\n",
       "      <td>9.0</td>\n",
       "      <td>0</td>\n",
       "    </tr>\n",
       "    <tr>\n",
       "      <th>4</th>\n",
       "      <td>0</td>\n",
       "      <td>1</td>\n",
       "      <td>61</td>\n",
       "      <td>1</td>\n",
       "      <td>2</td>\n",
       "      <td>214</td>\n",
       "      <td>3</td>\n",
       "      <td>3</td>\n",
       "      <td>3</td>\n",
       "      <td>3</td>\n",
       "      <td>...</td>\n",
       "      <td>3</td>\n",
       "      <td>3</td>\n",
       "      <td>4</td>\n",
       "      <td>4</td>\n",
       "      <td>3</td>\n",
       "      <td>3</td>\n",
       "      <td>3</td>\n",
       "      <td>0</td>\n",
       "      <td>0.0</td>\n",
       "      <td>1</td>\n",
       "    </tr>\n",
       "  </tbody>\n",
       "</table>\n",
       "<p>5 rows × 23 columns</p>\n",
       "</div>"
      ],
      "text/plain": [
       "   Gender  CustomerType  Age  TypeOfTravel  Class  FlightDistance  \\\n",
       "0       0             1   13             0      1             460   \n",
       "1       0             0   25             1      2             235   \n",
       "2       1             1   26             1      2            1142   \n",
       "3       1             1   25             1      2             562   \n",
       "4       0             1   61             1      2             214   \n",
       "\n",
       "   InflightWifiservice  DepartureArrivalTimeCconvenient  EaseOfOnlineBooking  \\\n",
       "0                    3                                4                    3   \n",
       "1                    3                                2                    3   \n",
       "2                    2                                2                    2   \n",
       "3                    2                                5                    5   \n",
       "4                    3                                3                    3   \n",
       "\n",
       "   GateLocation  ...  InflightEntertainment  OnBoardService  LegRoomService  \\\n",
       "0             1  ...                      5               4               3   \n",
       "1             3  ...                      1               1               5   \n",
       "2             2  ...                      5               4               3   \n",
       "3             5  ...                      2               2               5   \n",
       "4             3  ...                      3               3               4   \n",
       "\n",
       "   BaggageHandling  CheckinService  InflightService  Cleanliness  \\\n",
       "0                4               4                5            5   \n",
       "1                3               1                4            1   \n",
       "2                4               4                4            5   \n",
       "3                3               1                4            2   \n",
       "4                4               3                3            3   \n",
       "\n",
       "   DepartureDelayInMinutes  ArrivalDelayInMinutes  satisfaction  \n",
       "0                       25                   18.0             0  \n",
       "1                        1                    6.0             0  \n",
       "2                        0                    0.0             1  \n",
       "3                       11                    9.0             0  \n",
       "4                        0                    0.0             1  \n",
       "\n",
       "[5 rows x 23 columns]"
      ]
     },
     "execution_count": 19,
     "metadata": {},
     "output_type": "execute_result"
    }
   ],
   "source": [
    "df_train.head()"
   ]
  },
  {
   "cell_type": "markdown",
   "metadata": {},
   "source": [
    "<div class=\"alert alert-block alert-info\"><em>The Elbow Method"
   ]
  },
  {
   "cell_type": "code",
   "execution_count": 183,
   "metadata": {},
   "outputs": [
    {
     "data": {
      "text/plain": [
       "array([[13, 25],\n",
       "       [25,  1],\n",
       "       [26,  0],\n",
       "       ...,\n",
       "       [30,  7],\n",
       "       [22,  0],\n",
       "       [27,  0]], dtype=int64)"
      ]
     },
     "execution_count": 183,
     "metadata": {},
     "output_type": "execute_result"
    }
   ],
   "source": [
    "data_train = df_train.iloc[:, [2, 20]].values\n",
    "data_train"
   ]
  },
  {
   "cell_type": "code",
   "execution_count": 79,
   "metadata": {},
   "outputs": [
    {
     "data": {
      "image/png": "[encoded data removed]",
      "text/plain": [
       "<Figure size 432x288 with 1 Axes>"
      ]
     },
     "metadata": {
      "needs_background": "light"
     },
     "output_type": "display_data"
    }
   ],
   "source": [
    "wcss_list = []\n",
    "\n",
    "# Run a loop for different value of number of cluster\n",
    "for i in range(1, 6):\n",
    "    # Create and fit the KMeans model\n",
    "    kmeans_model = KMeans(n_clusters = i, random_state = 123)\n",
    "    kmeans_model.fit(data_train)\n",
    "    # Add the WCSS or inertia of the clusters to the score_list\n",
    "    wcss_list.append(kmeans_model.inertia_)\n",
    "\n",
    "# Plot the inertia(WCSS) and number of clusters    \n",
    "plt.plot(range(1, 6), wcss_list,  marker='*')\n",
    "# set title of the plot\n",
    "plt.title('Selecting Optimum Number of Clusters using Elbow Method')\n",
    "# Set x-axis label\n",
    "plt.xlabel('Number of Clusters K')\n",
    "# Set y-axis label\n",
    "plt.ylabel('Within-Cluster Sum of the Squares(Inertia)')\n",
    "# Display plot\n",
    "plt.show()"
   ]
  },
  {
   "cell_type": "markdown",
   "metadata": {},
   "source": [
    "<div class=\"alert alert-block alert-info\"><b><h3>K-Means Clustering - 1st Way</h3></b></div>"
   ]
  },
  {
   "cell_type": "code",
   "execution_count": 80,
   "metadata": {},
   "outputs": [
    {
     "data": {
      "image/png": "[encoded data removed]",
      "text/plain": [
       "<Figure size 432x288 with 1 Axes>"
      ]
     },
     "metadata": {
      "needs_background": "light"
     },
     "output_type": "display_data"
    }
   ],
   "source": [
    "from sklearn.cluster import KMeans\n",
    "wcss = []\n",
    "for i in range(1, 11):\n",
    "    kmeans = KMeans(n_clusters = i, init = 'k-means++', random_state = 42)\n",
    "    kmeans.fit(data_train)\n",
    "    wcss.append(kmeans.inertia_)\n",
    "plt.plot(range(1, 11), wcss)\n",
    "plt.title('The Elbow Method')\n",
    "plt.xlabel('Number of clusters')\n",
    "plt.ylabel('WCSS')\n",
    "plt.show()"
   ]
  },
  {
   "cell_type": "markdown",
   "metadata": {},
   "source": [
    "<div class=\"alert alert-block alert-info\"><em>Predicting Values"
   ]
  },
  {
   "cell_type": "code",
   "execution_count": 81,
   "metadata": {},
   "outputs": [
    {
     "data": {
      "text/plain": [
       "array([1, 1, 1, ..., 1, 1, 1])"
      ]
     },
     "execution_count": 81,
     "metadata": {},
     "output_type": "execute_result"
    }
   ],
   "source": [
    "kmeans = KMeans(n_clusters = 3, init = 'k-means++', random_state = 42)\n",
    "y_kmeans = kmeans.fit_predict(data_train)\n",
    "y_kmeans"
   ]
  },
  {
   "cell_type": "markdown",
   "metadata": {},
   "source": [
    "<div class=\"alert alert-block alert-info\"><em>Confusion Matrix & Accuracy"
   ]
  },
  {
   "cell_type": "code",
   "execution_count": 103,
   "metadata": {},
   "outputs": [
    {
     "name": "stdout",
     "output_type": "stream",
     "text": [
      "Accuracy : \n",
      " 0.43634250928049195\n",
      "\n",
      " Confusion matrix : \n",
      " [[ 6072 50379]\n",
      " [ 3050 36361]]\n",
      "\n",
      " Outcome values : \n",
      " 6072 50379 3050 36361\n",
      "\n",
      " Classification report : \n",
      "               precision    recall  f1-score   support\n",
      "\n",
      "           0       0.67      0.11      0.18     57372\n",
      "           1       0.42      0.91      0.57     39875\n",
      "\n",
      "   micro avg       0.44      0.44      0.44     97247\n",
      "   macro avg       0.54      0.51      0.38     97247\n",
      "weighted avg       0.56      0.44      0.34     97247\n",
      "\n"
     ]
    }
   ],
   "source": [
    "# confusion matrix in sklearn\n",
    "from sklearn.metrics import confusion_matrix\n",
    "from sklearn.metrics import classification_report\n",
    "\n",
    "# actual values\n",
    "actual = df_train['satisfaction']\n",
    "# predicted values\n",
    "predicted = y_kmeans\n",
    "\n",
    "accuracy = accuracy_score(actual, predicted)\n",
    "print('Accuracy : \\n', accuracy)\n",
    "\n",
    "# confusion matrix\n",
    "matrix = confusion_matrix(actual,predicted, labels=[0,1])\n",
    "print('\\n Confusion matrix : \\n',matrix)\n",
    "\n",
    "# outcome values order in sklearn\n",
    "tn, fp, fn, tp = confusion_matrix(actual,predicted,labels=[0,1]).reshape(-1)\n",
    "print('\\n Outcome values : \\n', tn, fp, fn, tp)\n",
    "\n",
    "# classification report for precision, recall f1-score and accuracy\n",
    "matrix = classification_report(actual,predicted,labels=[0,1])\n",
    "print('\\n Classification report : \\n',matrix)"
   ]
  },
  {
   "cell_type": "code",
   "execution_count": 83,
   "metadata": {},
   "outputs": [
    {
     "name": "stdout",
     "output_type": "stream",
     "text": [
      "[[ 6072 50379   921]\n",
      " [ 3050 36361   464]\n",
      " [    0     0     0]]\n",
      "              precision    recall  f1-score   support\n",
      "\n",
      "           0       0.67      0.11      0.18     57372\n",
      "           1       0.42      0.91      0.57     39875\n",
      "           2       0.00      0.00      0.00         0\n",
      "\n",
      "    accuracy                           0.44     97247\n",
      "   macro avg       0.36      0.34      0.25     97247\n",
      "weighted avg       0.56      0.44      0.34     97247\n",
      "\n"
     ]
    },
    {
     "name": "stderr",
     "output_type": "stream",
     "text": [
      "C:\\Users\\fatem\\anaconda3\\lib\\site-packages\\sklearn\\metrics\\_classification.py:1245: UndefinedMetricWarning: Recall and F-score are ill-defined and being set to 0.0 in labels with no true samples. Use `zero_division` parameter to control this behavior.\n",
      "  _warn_prf(average, modifier, msg_start, len(result))\n",
      "C:\\Users\\fatem\\anaconda3\\lib\\site-packages\\sklearn\\metrics\\_classification.py:1245: UndefinedMetricWarning: Recall and F-score are ill-defined and being set to 0.0 in labels with no true samples. Use `zero_division` parameter to control this behavior.\n",
      "  _warn_prf(average, modifier, msg_start, len(result))\n",
      "C:\\Users\\fatem\\anaconda3\\lib\\site-packages\\sklearn\\metrics\\_classification.py:1245: UndefinedMetricWarning: Recall and F-score are ill-defined and being set to 0.0 in labels with no true samples. Use `zero_division` parameter to control this behavior.\n",
      "  _warn_prf(average, modifier, msg_start, len(result))\n"
     ]
    }
   ],
   "source": [
    "from sklearn.metrics import confusion_matrix,classification_report\n",
    "\n",
    "df_new = df_train['satisfaction']\n",
    "\n",
    "print(confusion_matrix(df_new, kmeans.labels_))\n",
    "print(classification_report(df_new, kmeans.labels_))"
   ]
  },
  {
   "cell_type": "code",
   "execution_count": 108,
   "metadata": {},
   "outputs": [
    {
     "data": {
      "image/png": "[encoded data removed]",
      "text/plain": [
       "<Figure size 432x288 with 2 Axes>"
      ]
     },
     "metadata": {
      "needs_background": "light"
     },
     "output_type": "display_data"
    }
   ],
   "source": [
    "# actual values\n",
    "actual = df_train['satisfaction']\n",
    "# predicted values\n",
    "predicted = y_kmeans\n",
    "\n",
    "# labels=[1,0]\n",
    "\n",
    "IC = type('IdentityClassifier', (), {\"predict\": lambda i : i, \"_estimator_type\": \"classifier\"})\n",
    "plot_confusion_matrix(IC, actual, predicted, values_format='d', cmap='YlGnBu', labels=[0,1]);"
   ]
  },
  {
   "cell_type": "markdown",
   "metadata": {},
   "source": [
    "<div class=\"alert alert-block alert-info\"><em>Clustering based on Age and Departure Delay In Minutes"
   ]
  },
  {
   "cell_type": "code",
   "execution_count": 63,
   "metadata": {},
   "outputs": [
    {
     "data": {
      "image/png": "[encoded data removed]",
      "text/plain": [
       "<Figure size 432x288 with 1 Axes>"
      ]
     },
     "metadata": {
      "needs_background": "light"
     },
     "output_type": "display_data"
    }
   ],
   "source": [
    "plt.scatter(data_train[y_kmeans == 0, 0], data_train[y_kmeans == 0, 1], s = 100, c = 'red', label = 'Cluster 1')\n",
    "plt.scatter(data_train[y_kmeans == 1, 0], data_train[y_kmeans == 1, 1], s = 100, c = 'blue', label = 'Cluster 2')\n",
    "plt.scatter(data_train[y_kmeans == 2, 0], data_train[y_kmeans == 2, 1], s = 100, c = 'green', label = 'Cluster 3')\n",
    "plt.scatter(kmeans.cluster_centers_[:, 0], kmeans.cluster_centers_[:, 1], s = 100, c = 'yellow', label = 'Centroids')\n",
    "plt.title('Clusters of customers')\n",
    "plt.xlabel('Age')\n",
    "plt.ylabel('Departure Delay In Minutes')\n",
    "plt.legend()\n",
    "plt.show()"
   ]
  },
  {
   "cell_type": "markdown",
   "metadata": {},
   "source": [
    "<div class=\"alert alert-block alert-info\"><b><h3>K-Means Clustering - 2nd Way</h3></b></div>"
   ]
  },
  {
   "cell_type": "code",
   "execution_count": 184,
   "metadata": {},
   "outputs": [],
   "source": [
    "import pandas as pd\n",
    "import matplotlib.pyplot as plt\n",
    "from sklearn.cluster import KMeans"
   ]
  },
  {
   "cell_type": "code",
   "execution_count": 185,
   "metadata": {},
   "outputs": [],
   "source": [
    "df_train = pd.read_csv(\"Airline_Passenger_Satisfaction_Train_Cleaned.csv\")\n",
    "df_test = pd.read_csv(\"Airline_Passenger_Satisfaction_Test_Cleaned.csv\")\n",
    "\n",
    "def conv_cat(data):\n",
    "    data['Gender'] = data['Gender'].map({'Male': 0, 'Female': 1})\n",
    "    data['CustomerType'] = data['CustomerType'].map({'Loyal Customer': 1, 'disloyal Customer': 0})\n",
    "    data['TypeOfTravel'] = data['TypeOfTravel'].map({'Personal Travel':0, 'Business travel':1})\n",
    "    data['Class'] = data['Class'].map({'Business':2, 'Eco Plus':1, 'Eco':0})\n",
    "    data['satisfaction'] = data['satisfaction'].map({'neutral or dissatisfied':0, 'satisfied':1})\n",
    "    data = pd.get_dummies(data)\n",
    "    data.drop('id',axis=1,inplace=True)\n",
    "    data.fillna(0,inplace=True)\n",
    "    return data\n",
    "df_train = conv_cat(df_train)\n",
    "df_test = conv_cat(df_test)"
   ]
  },
  {
   "cell_type": "code",
   "execution_count": 186,
   "metadata": {},
   "outputs": [
    {
     "data": {
      "text/html": [
       "<style  type=\"text/css\" >\n",
       "    #T_aeaae_ th {\n",
       "          text-align: center;\n",
       "    }#T_aeaae_row0_col0,#T_aeaae_row0_col1,#T_aeaae_row0_col2,#T_aeaae_row0_col3,#T_aeaae_row0_col4,#T_aeaae_row0_col5,#T_aeaae_row0_col6,#T_aeaae_row0_col7,#T_aeaae_row0_col8,#T_aeaae_row0_col9,#T_aeaae_row0_col10,#T_aeaae_row0_col11,#T_aeaae_row0_col12,#T_aeaae_row0_col13,#T_aeaae_row0_col14,#T_aeaae_row0_col15,#T_aeaae_row0_col16,#T_aeaae_row0_col17,#T_aeaae_row0_col18,#T_aeaae_row0_col19,#T_aeaae_row0_col20,#T_aeaae_row0_col21,#T_aeaae_row1_col0,#T_aeaae_row1_col1,#T_aeaae_row1_col2,#T_aeaae_row1_col3,#T_aeaae_row1_col4,#T_aeaae_row1_col5,#T_aeaae_row1_col6,#T_aeaae_row1_col7,#T_aeaae_row1_col8,#T_aeaae_row1_col9,#T_aeaae_row1_col10,#T_aeaae_row1_col11,#T_aeaae_row1_col12,#T_aeaae_row1_col13,#T_aeaae_row1_col14,#T_aeaae_row1_col15,#T_aeaae_row1_col16,#T_aeaae_row1_col17,#T_aeaae_row1_col18,#T_aeaae_row1_col19,#T_aeaae_row1_col20,#T_aeaae_row1_col21,#T_aeaae_row2_col0,#T_aeaae_row2_col1,#T_aeaae_row2_col2,#T_aeaae_row2_col3,#T_aeaae_row2_col4,#T_aeaae_row2_col5,#T_aeaae_row2_col6,#T_aeaae_row2_col7,#T_aeaae_row2_col8,#T_aeaae_row2_col9,#T_aeaae_row2_col10,#T_aeaae_row2_col11,#T_aeaae_row2_col12,#T_aeaae_row2_col13,#T_aeaae_row2_col14,#T_aeaae_row2_col15,#T_aeaae_row2_col16,#T_aeaae_row2_col17,#T_aeaae_row2_col18,#T_aeaae_row2_col19,#T_aeaae_row2_col20,#T_aeaae_row2_col21,#T_aeaae_row3_col0,#T_aeaae_row3_col1,#T_aeaae_row3_col2,#T_aeaae_row3_col3,#T_aeaae_row3_col4,#T_aeaae_row3_col5,#T_aeaae_row3_col6,#T_aeaae_row3_col7,#T_aeaae_row3_col8,#T_aeaae_row3_col9,#T_aeaae_row3_col10,#T_aeaae_row3_col11,#T_aeaae_row3_col12,#T_aeaae_row3_col13,#T_aeaae_row3_col14,#T_aeaae_row3_col15,#T_aeaae_row3_col16,#T_aeaae_row3_col17,#T_aeaae_row3_col18,#T_aeaae_row3_col19,#T_aeaae_row3_col20,#T_aeaae_row3_col21,#T_aeaae_row4_col0,#T_aeaae_row4_col1,#T_aeaae_row4_col2,#T_aeaae_row4_col3,#T_aeaae_row4_col4,#T_aeaae_row4_col5,#T_aeaae_row4_col6,#T_aeaae_row4_col7,#T_aeaae_row4_col8,#T_aeaae_row4_col9,#T_aeaae_row4_col10,#T_aeaae_row4_col11,#T_aeaae_row4_col12,#T_aeaae_row4_col13,#T_aeaae_row4_col14,#T_aeaae_row4_col15,#T_aeaae_row4_col16,#T_aeaae_row4_col17,#T_aeaae_row4_col18,#T_aeaae_row4_col19,#T_aeaae_row4_col20,#T_aeaae_row4_col21{\n",
       "            text-align:  center;\n",
       "        }</style><table id=\"T_aeaae_\" ><thead>    <tr>        <th class=\"blank level0\" ></th>        <th class=\"col_heading level0 col0\" >Gender</th>        <th class=\"col_heading level0 col1\" >CustomerType</th>        <th class=\"col_heading level0 col2\" >Age</th>        <th class=\"col_heading level0 col3\" >TypeOfTravel</th>        <th class=\"col_heading level0 col4\" >Class</th>        <th class=\"col_heading level0 col5\" >FlightDistance</th>        <th class=\"col_heading level0 col6\" >InflightWifiservice</th>        <th class=\"col_heading level0 col7\" >DepartureArrivalTimeCconvenient</th>        <th class=\"col_heading level0 col8\" >EaseOfOnlineBooking</th>        <th class=\"col_heading level0 col9\" >GateLocation</th>        <th class=\"col_heading level0 col10\" >FoodAndDrink</th>        <th class=\"col_heading level0 col11\" >OnlineBoarding</th>        <th class=\"col_heading level0 col12\" >SeatComfort</th>        <th class=\"col_heading level0 col13\" >InflightEntertainment</th>        <th class=\"col_heading level0 col14\" >OnBoardService</th>        <th class=\"col_heading level0 col15\" >LegRoomService</th>        <th class=\"col_heading level0 col16\" >BaggageHandling</th>        <th class=\"col_heading level0 col17\" >CheckinService</th>        <th class=\"col_heading level0 col18\" >InflightService</th>        <th class=\"col_heading level0 col19\" >Cleanliness</th>        <th class=\"col_heading level0 col20\" >DepartureDelayInMinutes</th>        <th class=\"col_heading level0 col21\" >satisfaction</th>    </tr></thead><tbody>\n",
       "                <tr>\n",
       "                        <th id=\"T_aeaae_level0_row0\" class=\"row_heading level0 row0\" >0</th>\n",
       "                        <td id=\"T_aeaae_row0_col0\" class=\"data row0 col0\" >0</td>\n",
       "                        <td id=\"T_aeaae_row0_col1\" class=\"data row0 col1\" >1</td>\n",
       "                        <td id=\"T_aeaae_row0_col2\" class=\"data row0 col2\" >-1.712826</td>\n",
       "                        <td id=\"T_aeaae_row0_col3\" class=\"data row0 col3\" >0</td>\n",
       "                        <td id=\"T_aeaae_row0_col4\" class=\"data row0 col4\" >1</td>\n",
       "                        <td id=\"T_aeaae_row0_col5\" class=\"data row0 col5\" >-0.711694</td>\n",
       "                        <td id=\"T_aeaae_row0_col6\" class=\"data row0 col6\" >3</td>\n",
       "                        <td id=\"T_aeaae_row0_col7\" class=\"data row0 col7\" >4</td>\n",
       "                        <td id=\"T_aeaae_row0_col8\" class=\"data row0 col8\" >3</td>\n",
       "                        <td id=\"T_aeaae_row0_col9\" class=\"data row0 col9\" >1</td>\n",
       "                        <td id=\"T_aeaae_row0_col10\" class=\"data row0 col10\" >5</td>\n",
       "                        <td id=\"T_aeaae_row0_col11\" class=\"data row0 col11\" >3</td>\n",
       "                        <td id=\"T_aeaae_row0_col12\" class=\"data row0 col12\" >5</td>\n",
       "                        <td id=\"T_aeaae_row0_col13\" class=\"data row0 col13\" >5</td>\n",
       "                        <td id=\"T_aeaae_row0_col14\" class=\"data row0 col14\" >4</td>\n",
       "                        <td id=\"T_aeaae_row0_col15\" class=\"data row0 col15\" >3</td>\n",
       "                        <td id=\"T_aeaae_row0_col16\" class=\"data row0 col16\" >4</td>\n",
       "                        <td id=\"T_aeaae_row0_col17\" class=\"data row0 col17\" >4</td>\n",
       "                        <td id=\"T_aeaae_row0_col18\" class=\"data row0 col18\" >5</td>\n",
       "                        <td id=\"T_aeaae_row0_col19\" class=\"data row0 col19\" >5</td>\n",
       "                        <td id=\"T_aeaae_row0_col20\" class=\"data row0 col20\" >0.270859</td>\n",
       "                        <td id=\"T_aeaae_row0_col21\" class=\"data row0 col21\" >0</td>\n",
       "            </tr>\n",
       "            <tr>\n",
       "                        <th id=\"T_aeaae_level0_row1\" class=\"row_heading level0 row1\" >1</th>\n",
       "                        <td id=\"T_aeaae_row1_col0\" class=\"data row1 col0\" >0</td>\n",
       "                        <td id=\"T_aeaae_row1_col1\" class=\"data row1 col1\" >0</td>\n",
       "                        <td id=\"T_aeaae_row1_col2\" class=\"data row1 col2\" >-0.926667</td>\n",
       "                        <td id=\"T_aeaae_row1_col3\" class=\"data row1 col3\" >1</td>\n",
       "                        <td id=\"T_aeaae_row1_col4\" class=\"data row1 col4\" >2</td>\n",
       "                        <td id=\"T_aeaae_row1_col5\" class=\"data row1 col5\" >-0.995214</td>\n",
       "                        <td id=\"T_aeaae_row1_col6\" class=\"data row1 col6\" >3</td>\n",
       "                        <td id=\"T_aeaae_row1_col7\" class=\"data row1 col7\" >2</td>\n",
       "                        <td id=\"T_aeaae_row1_col8\" class=\"data row1 col8\" >3</td>\n",
       "                        <td id=\"T_aeaae_row1_col9\" class=\"data row1 col9\" >3</td>\n",
       "                        <td id=\"T_aeaae_row1_col10\" class=\"data row1 col10\" >1</td>\n",
       "                        <td id=\"T_aeaae_row1_col11\" class=\"data row1 col11\" >3</td>\n",
       "                        <td id=\"T_aeaae_row1_col12\" class=\"data row1 col12\" >1</td>\n",
       "                        <td id=\"T_aeaae_row1_col13\" class=\"data row1 col13\" >1</td>\n",
       "                        <td id=\"T_aeaae_row1_col14\" class=\"data row1 col14\" >1</td>\n",
       "                        <td id=\"T_aeaae_row1_col15\" class=\"data row1 col15\" >5</td>\n",
       "                        <td id=\"T_aeaae_row1_col16\" class=\"data row1 col16\" >3</td>\n",
       "                        <td id=\"T_aeaae_row1_col17\" class=\"data row1 col17\" >1</td>\n",
       "                        <td id=\"T_aeaae_row1_col18\" class=\"data row1 col18\" >4</td>\n",
       "                        <td id=\"T_aeaae_row1_col19\" class=\"data row1 col19\" >1</td>\n",
       "                        <td id=\"T_aeaae_row1_col20\" class=\"data row1 col20\" >-0.359577</td>\n",
       "                        <td id=\"T_aeaae_row1_col21\" class=\"data row1 col21\" >0</td>\n",
       "            </tr>\n",
       "            <tr>\n",
       "                        <th id=\"T_aeaae_level0_row2\" class=\"row_heading level0 row2\" >2</th>\n",
       "                        <td id=\"T_aeaae_row2_col0\" class=\"data row2 col0\" >1</td>\n",
       "                        <td id=\"T_aeaae_row2_col1\" class=\"data row2 col1\" >1</td>\n",
       "                        <td id=\"T_aeaae_row2_col2\" class=\"data row2 col2\" >-0.861154</td>\n",
       "                        <td id=\"T_aeaae_row2_col3\" class=\"data row2 col3\" >1</td>\n",
       "                        <td id=\"T_aeaae_row2_col4\" class=\"data row2 col4\" >2</td>\n",
       "                        <td id=\"T_aeaae_row2_col5\" class=\"data row2 col5\" >0.147687</td>\n",
       "                        <td id=\"T_aeaae_row2_col6\" class=\"data row2 col6\" >2</td>\n",
       "                        <td id=\"T_aeaae_row2_col7\" class=\"data row2 col7\" >2</td>\n",
       "                        <td id=\"T_aeaae_row2_col8\" class=\"data row2 col8\" >2</td>\n",
       "                        <td id=\"T_aeaae_row2_col9\" class=\"data row2 col9\" >2</td>\n",
       "                        <td id=\"T_aeaae_row2_col10\" class=\"data row2 col10\" >5</td>\n",
       "                        <td id=\"T_aeaae_row2_col11\" class=\"data row2 col11\" >5</td>\n",
       "                        <td id=\"T_aeaae_row2_col12\" class=\"data row2 col12\" >5</td>\n",
       "                        <td id=\"T_aeaae_row2_col13\" class=\"data row2 col13\" >5</td>\n",
       "                        <td id=\"T_aeaae_row2_col14\" class=\"data row2 col14\" >4</td>\n",
       "                        <td id=\"T_aeaae_row2_col15\" class=\"data row2 col15\" >3</td>\n",
       "                        <td id=\"T_aeaae_row2_col16\" class=\"data row2 col16\" >4</td>\n",
       "                        <td id=\"T_aeaae_row2_col17\" class=\"data row2 col17\" >4</td>\n",
       "                        <td id=\"T_aeaae_row2_col18\" class=\"data row2 col18\" >4</td>\n",
       "                        <td id=\"T_aeaae_row2_col19\" class=\"data row2 col19\" >5</td>\n",
       "                        <td id=\"T_aeaae_row2_col20\" class=\"data row2 col20\" >-0.385846</td>\n",
       "                        <td id=\"T_aeaae_row2_col21\" class=\"data row2 col21\" >1</td>\n",
       "            </tr>\n",
       "            <tr>\n",
       "                        <th id=\"T_aeaae_level0_row3\" class=\"row_heading level0 row3\" >3</th>\n",
       "                        <td id=\"T_aeaae_row3_col0\" class=\"data row3 col0\" >1</td>\n",
       "                        <td id=\"T_aeaae_row3_col1\" class=\"data row3 col1\" >1</td>\n",
       "                        <td id=\"T_aeaae_row3_col2\" class=\"data row3 col2\" >-0.926667</td>\n",
       "                        <td id=\"T_aeaae_row3_col3\" class=\"data row3 col3\" >1</td>\n",
       "                        <td id=\"T_aeaae_row3_col4\" class=\"data row3 col4\" >2</td>\n",
       "                        <td id=\"T_aeaae_row3_col5\" class=\"data row3 col5\" >-0.583165</td>\n",
       "                        <td id=\"T_aeaae_row3_col6\" class=\"data row3 col6\" >2</td>\n",
       "                        <td id=\"T_aeaae_row3_col7\" class=\"data row3 col7\" >5</td>\n",
       "                        <td id=\"T_aeaae_row3_col8\" class=\"data row3 col8\" >5</td>\n",
       "                        <td id=\"T_aeaae_row3_col9\" class=\"data row3 col9\" >5</td>\n",
       "                        <td id=\"T_aeaae_row3_col10\" class=\"data row3 col10\" >2</td>\n",
       "                        <td id=\"T_aeaae_row3_col11\" class=\"data row3 col11\" >2</td>\n",
       "                        <td id=\"T_aeaae_row3_col12\" class=\"data row3 col12\" >2</td>\n",
       "                        <td id=\"T_aeaae_row3_col13\" class=\"data row3 col13\" >2</td>\n",
       "                        <td id=\"T_aeaae_row3_col14\" class=\"data row3 col14\" >2</td>\n",
       "                        <td id=\"T_aeaae_row3_col15\" class=\"data row3 col15\" >5</td>\n",
       "                        <td id=\"T_aeaae_row3_col16\" class=\"data row3 col16\" >3</td>\n",
       "                        <td id=\"T_aeaae_row3_col17\" class=\"data row3 col17\" >1</td>\n",
       "                        <td id=\"T_aeaae_row3_col18\" class=\"data row3 col18\" >4</td>\n",
       "                        <td id=\"T_aeaae_row3_col19\" class=\"data row3 col19\" >2</td>\n",
       "                        <td id=\"T_aeaae_row3_col20\" class=\"data row3 col20\" >-0.096896</td>\n",
       "                        <td id=\"T_aeaae_row3_col21\" class=\"data row3 col21\" >0</td>\n",
       "            </tr>\n",
       "            <tr>\n",
       "                        <th id=\"T_aeaae_level0_row4\" class=\"row_heading level0 row4\" >4</th>\n",
       "                        <td id=\"T_aeaae_row4_col0\" class=\"data row4 col0\" >0</td>\n",
       "                        <td id=\"T_aeaae_row4_col1\" class=\"data row4 col1\" >1</td>\n",
       "                        <td id=\"T_aeaae_row4_col2\" class=\"data row4 col2\" >1.431810</td>\n",
       "                        <td id=\"T_aeaae_row4_col3\" class=\"data row4 col3\" >1</td>\n",
       "                        <td id=\"T_aeaae_row4_col4\" class=\"data row4 col4\" >2</td>\n",
       "                        <td id=\"T_aeaae_row4_col5\" class=\"data row4 col5\" >-1.021676</td>\n",
       "                        <td id=\"T_aeaae_row4_col6\" class=\"data row4 col6\" >3</td>\n",
       "                        <td id=\"T_aeaae_row4_col7\" class=\"data row4 col7\" >3</td>\n",
       "                        <td id=\"T_aeaae_row4_col8\" class=\"data row4 col8\" >3</td>\n",
       "                        <td id=\"T_aeaae_row4_col9\" class=\"data row4 col9\" >3</td>\n",
       "                        <td id=\"T_aeaae_row4_col10\" class=\"data row4 col10\" >4</td>\n",
       "                        <td id=\"T_aeaae_row4_col11\" class=\"data row4 col11\" >5</td>\n",
       "                        <td id=\"T_aeaae_row4_col12\" class=\"data row4 col12\" >5</td>\n",
       "                        <td id=\"T_aeaae_row4_col13\" class=\"data row4 col13\" >3</td>\n",
       "                        <td id=\"T_aeaae_row4_col14\" class=\"data row4 col14\" >3</td>\n",
       "                        <td id=\"T_aeaae_row4_col15\" class=\"data row4 col15\" >4</td>\n",
       "                        <td id=\"T_aeaae_row4_col16\" class=\"data row4 col16\" >4</td>\n",
       "                        <td id=\"T_aeaae_row4_col17\" class=\"data row4 col17\" >3</td>\n",
       "                        <td id=\"T_aeaae_row4_col18\" class=\"data row4 col18\" >3</td>\n",
       "                        <td id=\"T_aeaae_row4_col19\" class=\"data row4 col19\" >3</td>\n",
       "                        <td id=\"T_aeaae_row4_col20\" class=\"data row4 col20\" >-0.385846</td>\n",
       "                        <td id=\"T_aeaae_row4_col21\" class=\"data row4 col21\" >1</td>\n",
       "            </tr>\n",
       "    </tbody></table>"
      ],
      "text/plain": [
       "<pandas.io.formats.style.Styler at 0x22506799100>"
      ]
     },
     "execution_count": 186,
     "metadata": {},
     "output_type": "execute_result"
    }
   ],
   "source": [
    "from sklearn.preprocessing import LabelEncoder, StandardScaler\n",
    "import numpy as np\n",
    "from scipy.spatial.distance import cdist\n",
    "from sklearn.cluster import KMeans\n",
    "from sklearn.decomposition import PCA\n",
    "\n",
    "df = df_train.append(df_test)\n",
    "df.drop('ArrivalDelayInMinutes', axis=1, inplace=True)\n",
    "\n",
    "cols_train = df[['Age', 'FlightDistance', 'DepartureDelayInMinutes']]\n",
    "\n",
    "scaler = StandardScaler()\n",
    "scaled_train = pd.DataFrame(scaler.fit_transform(cols_train), columns = cols_train.columns)\n",
    "\n",
    "cols = ['Age', 'FlightDistance', 'DepartureDelayInMinutes']\n",
    "\n",
    "df[cols] = scaled_train\n",
    "df.head().style.set_properties(**{'text-align': 'center'}).set_table_styles([dict(selector='th', props=[('text-align', 'center')])])"
   ]
  },
  {
   "cell_type": "code",
   "execution_count": 187,
   "metadata": {},
   "outputs": [],
   "source": [
    "def elbow_met(df):\n",
    "    distortions = []\n",
    "    K = range(1,10)\n",
    "    for k in K:\n",
    "        kmeanModel = KMeans(n_clusters=k, random_state=10).fit(df)\n",
    "        kmeanModel.fit(df)\n",
    "        distortions.append(sum(np.min(cdist(df, kmeanModel.cluster_centers_, 'euclidean'), axis=1)) / df.shape[0])\n",
    "\n",
    "    # Plot the elbow\n",
    "    plt.plot(K, distortions, 'bx-')\n",
    "    plt.xlabel('k')\n",
    "    plt.ylabel('Within groups sum of squares')\n",
    "    plt.title('The Elbow Method showing the optimal k')\n",
    "    plt.show()"
   ]
  },
  {
   "cell_type": "code",
   "execution_count": 188,
   "metadata": {},
   "outputs": [
    {
     "data": {
      "image/png": "[encoded data removed]",
      "text/plain": [
       "<Figure size 432x288 with 1 Axes>"
      ]
     },
     "metadata": {},
     "output_type": "display_data"
    }
   ],
   "source": [
    "elbow_met(df)"
   ]
  },
  {
   "cell_type": "code",
   "execution_count": 189,
   "metadata": {},
   "outputs": [
    {
     "data": {
      "text/plain": [
       "KMeans(n_clusters=3, random_state=10)"
      ]
     },
     "execution_count": 189,
     "metadata": {},
     "output_type": "execute_result"
    }
   ],
   "source": [
    "kmeans = KMeans(n_clusters=3, random_state=10)\n",
    "kmeans.fit(df)"
   ]
  },
  {
   "cell_type": "code",
   "execution_count": 190,
   "metadata": {},
   "outputs": [],
   "source": [
    "def get_melted_clusters(labels):\n",
    "    result_df = dm.copy()\n",
    "    \n",
    "    result_df[\"cluster\"] = labels\n",
    "    melt_cluster = result_df.groupby(\"cluster\").mean().reset_index().melt(id_vars=\"cluster\")\n",
    "    melt_cluster = melt_cluster[\"variable\"].str.split(\"_\" , expand=True).join(melt_cluster)\n",
    "    melt_cluster = melt_cluster.rename({0 : \"variable_base\" , 1:\"response\"} , axis=1)\n",
    "    melt_cluster[\"cluster\"] = melt_cluster[\"cluster\"].astype(\"category\") \n",
    "    return melt_cluster"
   ]
  },
  {
   "cell_type": "markdown",
   "metadata": {},
   "source": [
    "<div class=\"alert alert-block alert-warning\"><em>Install this Module If You Do Not Have It Installed On Your Computer"
   ]
  },
  {
   "cell_type": "code",
   "execution_count": 22,
   "metadata": {
    "scrolled": true
   },
   "outputs": [
    {
     "name": "stdout",
     "output_type": "stream",
     "text": [
      "Collecting plotnine\n",
      "  Downloading plotnine-0.8.0-py3-none-any.whl (4.7 MB)\n",
      "Requirement already satisfied: pandas>=1.1.0 in c:\\users\\fatem\\anaconda3\\lib\\site-packages (from plotnine) (1.2.4)\n",
      "Requirement already satisfied: scipy>=1.5.0 in c:\\users\\fatem\\anaconda3\\lib\\site-packages (from plotnine) (1.6.2)\n",
      "Requirement already satisfied: statsmodels>=0.12.1 in c:\\users\\fatem\\anaconda3\\lib\\site-packages (from plotnine) (0.12.2)\n",
      "Collecting descartes>=1.1.0\n",
      "  Downloading descartes-1.1.0-py3-none-any.whl (5.8 kB)\n",
      "Requirement already satisfied: numpy>=1.19.0 in c:\\users\\fatem\\anaconda3\\lib\\site-packages (from plotnine) (1.20.1)\n",
      "Requirement already satisfied: matplotlib>=3.1.1 in c:\\users\\fatem\\anaconda3\\lib\\site-packages (from plotnine) (3.3.4)\n",
      "Collecting mizani>=0.7.3\n",
      "  Downloading mizani-0.7.3-py3-none-any.whl (63 kB)\n",
      "Requirement already satisfied: patsy>=0.5.1 in c:\\users\\fatem\\anaconda3\\lib\\site-packages (from plotnine) (0.5.1)\n",
      "Requirement already satisfied: pyparsing!=2.0.4,!=2.1.2,!=2.1.6,>=2.0.3 in c:\\users\\fatem\\anaconda3\\lib\\site-packages (from matplotlib>=3.1.1->plotnine) (2.4.7)\n",
      "Requirement already satisfied: pillow>=6.2.0 in c:\\users\\fatem\\anaconda3\\lib\\site-packages (from matplotlib>=3.1.1->plotnine) (8.2.0)\n",
      "Requirement already satisfied: python-dateutil>=2.1 in c:\\users\\fatem\\anaconda3\\lib\\site-packages (from matplotlib>=3.1.1->plotnine) (2.8.1)\n",
      "Requirement already satisfied: cycler>=0.10 in c:\\users\\fatem\\anaconda3\\lib\\site-packages (from matplotlib>=3.1.1->plotnine) (0.10.0)\n",
      "Requirement already satisfied: kiwisolver>=1.0.1 in c:\\users\\fatem\\anaconda3\\lib\\site-packages (from matplotlib>=3.1.1->plotnine) (1.3.1)\n",
      "Requirement already satisfied: six in c:\\users\\fatem\\anaconda3\\lib\\site-packages (from cycler>=0.10->matplotlib>=3.1.1->plotnine) (1.15.0)\n",
      "Collecting palettable\n",
      "  Downloading palettable-3.3.0-py2.py3-none-any.whl (111 kB)\n",
      "Requirement already satisfied: pytz>=2017.3 in c:\\users\\fatem\\anaconda3\\lib\\site-packages (from pandas>=1.1.0->plotnine) (2021.1)\n",
      "Installing collected packages: palettable, mizani, descartes, plotnine\n",
      "Successfully installed descartes-1.1.0 mizani-0.7.3 palettable-3.3.0 plotnine-0.8.0\n"
     ]
    }
   ],
   "source": [
    "# !pip install plotnine"
   ]
  },
  {
   "cell_type": "code",
   "execution_count": 191,
   "metadata": {},
   "outputs": [
    {
     "data": {
      "image/png": "[encoded data removed]",
      "text/plain": [
       "<Figure size 500x400 with 1 Axes>"
      ]
     },
     "metadata": {},
     "output_type": "display_data"
    },
    {
     "data": {
      "text/plain": [
       "<ggplot: (147371175325)>"
      ]
     },
     "execution_count": 191,
     "metadata": {},
     "output_type": "execute_result"
    }
   ],
   "source": [
    "from plotnine import *\n",
    "\n",
    "# train = pd.read_csv(\"Airline_Passenger_Satisfaction_Train_Cleaned.csv\")\n",
    "train = df_train.append(df_test)\n",
    "\n",
    "dm = pd.get_dummies(train, columns=['satisfaction'])\n",
    "mc = get_melted_clusters(kmeans.labels_)\n",
    "\n",
    "(\n",
    "    ggplot(mc[~mc[\"response\"].isna()], aes(x=\"response\", y=\"value\", fill=\"cluster\"))\n",
    "    + geom_col(position=\"fill\")\n",
    "    + labs(x='Value', y='Percentage')\n",
    "    + coord_flip()\n",
    "    + facet_wrap(\"~ variable_base\")\n",
    "    + theme(figure_size=(5, 4))\n",
    "    + scale_fill_manual(values=('#682F2F', '#9F8A78', '#F3AB60'))\n",
    ")"
   ]
  },
  {
   "cell_type": "code",
   "execution_count": 192,
   "metadata": {},
   "outputs": [
    {
     "data": {
      "image/png": "[encoded data removed]",
      "text/plain": [
       "<Figure size 1200x1000 with 14 Axes>"
      ]
     },
     "metadata": {},
     "output_type": "display_data"
    },
    {
     "data": {
      "text/plain": [
       "<ggplot: (147371210087)>"
      ]
     },
     "execution_count": 192,
     "metadata": {},
     "output_type": "execute_result"
    }
   ],
   "source": [
    "cols = ['InflightWifiservice', 'DepartureArrivalTimeCconvenient', 'EaseOfOnlineBooking',\n",
    "       'GateLocation', 'FoodAndDrink', 'OnlineBoarding', 'SeatComfort', 'InflightEntertainment', 'OnBoardService',\n",
    "       'LegRoomService', 'BaggageHandling', 'CheckinService', 'InflightService', 'Cleanliness']\n",
    "\n",
    "dm = pd.get_dummies(train, columns=cols, drop_first=True)\n",
    "mc = get_melted_clusters(kmeans.labels_)\n",
    "\n",
    "(\n",
    "    ggplot(mc[~mc[\"response\"].isna()], aes(x=\"response\", y=\"value\", fill=\"cluster\"))\n",
    "    + geom_col(position=\"fill\")\n",
    "    + labs(x='Value', y='Percentage')\n",
    "    + coord_flip()\n",
    "    + facet_wrap(\"~ variable_base\")\n",
    "    + theme(figure_size=(12, 10), legend_position = (0.6, 0.2)) \n",
    "    + scale_fill_manual(values=('#682F2F', '#9F8A78', '#F3AB60'))\n",
    ")"
   ]
  },
  {
   "cell_type": "code",
   "execution_count": 193,
   "metadata": {},
   "outputs": [
    {
     "data": {
      "image/png": "[encoded data removed]",
      "text/plain": [
       "<Figure size 500x400 with 1 Axes>"
      ]
     },
     "metadata": {},
     "output_type": "display_data"
    },
    {
     "data": {
      "text/plain": [
       "<ggplot: (147375510541)>"
      ]
     },
     "execution_count": 193,
     "metadata": {},
     "output_type": "execute_result"
    }
   ],
   "source": [
    "dm = pd.get_dummies(train, columns=['Gender'])\n",
    "mc = get_melted_clusters(kmeans.labels_)\n",
    "\n",
    "(\n",
    "    ggplot(mc[~mc[\"response\"].isna()], aes(x=\"response\", y=\"value\", fill=\"cluster\"))\n",
    "    + geom_col(position=\"fill\")\n",
    "    + labs(x='Value', y='Percentage')\n",
    "    + coord_flip()\n",
    "    + facet_wrap(\"~ variable_base\")\n",
    "    + theme(figure_size=(5, 4))\n",
    "    + scale_fill_manual(values=('#682F2F', '#9F8A78', '#F3AB60'))\n",
    ")"
   ]
  },
  {
   "cell_type": "code",
   "execution_count": 12,
   "metadata": {},
   "outputs": [
    {
     "data": {
      "image/png": "[encoded data removed]",
      "text/plain": [
       "<Figure size 500x400 with 1 Axes>"
      ]
     },
     "metadata": {},
     "output_type": "display_data"
    },
    {
     "data": {
      "text/plain": [
       "<ggplot: (144418637502)>"
      ]
     },
     "execution_count": 12,
     "metadata": {},
     "output_type": "execute_result"
    }
   ],
   "source": [
    "dm = pd.get_dummies(train, columns=['CustomerType'])\n",
    "mc = get_melted_clusters(kmeans.labels_)\n",
    "\n",
    "(\n",
    "    ggplot(mc[~mc[\"response\"].isna()], aes(x=\"response\", y=\"value\", fill=\"cluster\"))\n",
    "    + geom_col(position=\"fill\")\n",
    "    + labs(x='Value', y='Percentage')\n",
    "    + coord_flip()\n",
    "    + facet_wrap(\"~ variable_base\")\n",
    "    + theme(figure_size=(5, 4))\n",
    "    + scale_fill_manual(values=('#682F2F', '#9F8A78', '#F3AB60'))\n",
    ")"
   ]
  },
  {
   "cell_type": "code",
   "execution_count": 13,
   "metadata": {},
   "outputs": [
    {
     "data": {
      "image/png": "[encoded data removed]",
      "text/plain": [
       "<Figure size 500x400 with 1 Axes>"
      ]
     },
     "metadata": {},
     "output_type": "display_data"
    },
    {
     "data": {
      "text/plain": [
       "<ggplot: (144418670123)>"
      ]
     },
     "execution_count": 13,
     "metadata": {},
     "output_type": "execute_result"
    }
   ],
   "source": [
    "dm = pd.get_dummies(train, columns=['TypeOfTravel'])\n",
    "mc = get_melted_clusters(kmeans.labels_)\n",
    "\n",
    "(\n",
    "    ggplot(mc[~mc[\"response\"].isna()], aes(x=\"response\", y=\"value\", fill=\"cluster\"))\n",
    "    + geom_col(position=\"fill\")\n",
    "    + labs(x='Value', y='Percentage')\n",
    "    + coord_flip()\n",
    "    + facet_wrap(\"~ variable_base\")\n",
    "    + theme(figure_size=(5, 4))\n",
    "    + scale_fill_manual(values=('#682F2F', '#9F8A78', '#F3AB60'))\n",
    ")"
   ]
  },
  {
   "cell_type": "code",
   "execution_count": 14,
   "metadata": {},
   "outputs": [
    {
     "data": {
      "image/png": "[encoded data removed]",
      "text/plain": [
       "<Figure size 500x400 with 1 Axes>"
      ]
     },
     "metadata": {},
     "output_type": "display_data"
    },
    {
     "data": {
      "text/plain": [
       "<ggplot: (144418717431)>"
      ]
     },
     "execution_count": 14,
     "metadata": {},
     "output_type": "execute_result"
    }
   ],
   "source": [
    "dm = pd.get_dummies(train, columns=['Class'])\n",
    "mc = get_melted_clusters(kmeans.labels_)\n",
    "\n",
    "(\n",
    "    ggplot(mc[~mc[\"response\"].isna()], aes(x=\"response\", y=\"value\", fill=\"cluster\"))\n",
    "    + geom_col(position=\"fill\")\n",
    "    + labs(x='Value', y='Percentage')\n",
    "    + coord_flip()\n",
    "    + facet_wrap(\"~ variable_base\")\n",
    "    + theme(figure_size=(5, 4))\n",
    "    + scale_fill_manual(values=('#682F2F', '#9F8A78', '#F3AB60'))\n",
    ")"
   ]
  },
  {
   "cell_type": "markdown",
   "metadata": {},
   "source": [
    "<div class=\"alert alert-block alert-warning\"><em>\n",
    "<b>Conclusions</b>\n",
    "\n",
    "Cluster 0:\n",
    "\n",
    "Quite neutral satisfaction.\n",
    "\n",
    "Features that had high ratings:\n",
    "- Cleanliness\n",
    "- Food and drink\n",
    "- Inflight entertainment\n",
    "- Features that had low ratings:\n",
    "- Departure/Arrival time\n",
    "- Ease of Online booking\n",
    "- Gate location\n",
    "\n",
    "Cluster 1:\n",
    "\n",
    "Not satisfied with their experience.\n",
    "\n",
    "Mostly disloyal costumers in Eco/Eco Plus class for personal travel.\n",
    "\n",
    "Features that had extremely low ratings:\n",
    "- Cleanliness\n",
    "- Food and drink\n",
    "- Inflight entertainment\n",
    "- Inflight service\n",
    "- Seat comfort\n",
    "\n",
    "Cluster 2:\n",
    "\n",
    "Mostly satisfied with their experience.\n",
    "\n",
    "Mostly loyal costumers in buisness class for buisness travel.\n",
    "\n",
    "Features that had extremely high ratings:\n",
    "- Departure/Arrival time\n",
    "- Ease of Online booking\n",
    "- Gate location\n",
    "- Inflight wifi service"
   ]
  },
  {
   "cell_type": "markdown",
   "metadata": {},
   "source": [
    "<div class=\"alert alert-block alert-info\"><b><h3>Accuracy Comparison"
   ]
  },
  {
   "cell_type": "code",
   "execution_count": 147,
   "metadata": {},
   "outputs": [
    {
     "data": {
      "image/png": "[encoded data removed]",
      "text/plain": [
       "<Figure size 432x288 with 1 Axes>"
      ]
     },
     "metadata": {},
     "output_type": "display_data"
    }
   ],
   "source": [
    "x = ['Random Forest', 'kNN Classification', 'K-Means Clustering']\n",
    "percentage = [95.42612701546561, 74.14910025706941, 43.634250928049195]\n",
    "df = pd.DataFrame(x, percentage)\n",
    "df.reset_index(level=0, inplace=True)\n",
    "df.columns = ['Percentage', 'Accuracy']\n",
    "\n",
    "#make the bar plot\n",
    "sns.barplot(x = 'Accuracy', y = 'Percentage', data = df)\n",
    "plt.title('Accuracy')\n",
    "plt.xlabel('Accuracy')\n",
    "plt.ylabel('Percentage')\n",
    "\n",
    "#place the labels\n",
    "ax = plt.gca()\n",
    "y_max = df['Percentage'].value_counts().max() \n",
    "ax.set_ylim(1)\n",
    "for p in ax.patches:\n",
    "    ax.text(p.get_x() + p.get_width()/2., p.get_height(), '{0:.2f}'.format(p.get_height()), \n",
    "        fontsize=12, color='red', ha='center', va='bottom')"
   ]
  }
 ],
 "metadata": {
  "kernelspec": {
   "display_name": "Python 3",
   "language": "python",
   "name": "python3"
  },
  "language_info": {
   "codemirror_mode": {
    "name": "ipython",
    "version": 3
   },
   "file_extension": ".py",
   "mimetype": "text/x-python",
   "name": "python",
   "nbconvert_exporter": "python",
   "pygments_lexer": "ipython3",
   "version": "3.8.8"
  }
 },
 "nbformat": 4,
 "nbformat_minor": 2
}
